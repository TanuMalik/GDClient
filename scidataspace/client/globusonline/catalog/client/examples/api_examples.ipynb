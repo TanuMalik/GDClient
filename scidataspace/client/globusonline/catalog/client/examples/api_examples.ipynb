{
 "metadata": {
  "name": "",
  "signature": "sha256:8760151bb5463df475af2d432494e9a997abf88ba1d314fb030e5da2aa66679d"
 },
 "nbformat": 3,
 "nbformat_minor": 0,
 "worksheets": [
  {
   "cells": [
    {
     "cell_type": "heading",
     "level": 1,
     "metadata": {},
     "source": [
      "Globus Catalog API Examples"
     ]
    },
    {
     "cell_type": "heading",
     "level": 3,
     "metadata": {},
     "source": [
      "Load required libraries"
     ]
    },
    {
     "cell_type": "code",
     "collapsed": false,
     "input": [
      "from globusonline.catalog.client.goauth import get_access_token\n",
      "from globusonline.catalog.client.dataset_client import DatasetClient\n",
      "from globusonline.transfer.api_client import TransferAPIClient, Transfer\n",
      "from globusonline.catalog.client.operators import Op\n",
      "from globusonline.catalog.client.examples.catalog_wrapper import *\n",
      "from globusonline.catalog.client.rest_client import urlquote\n",
      "\n",
      "import re, collections, os, json"
     ],
     "language": "python",
     "metadata": {},
     "outputs": [],
     "prompt_number": 42
    },
    {
     "cell_type": "heading",
     "level": 3,
     "metadata": {},
     "source": [
      "Load Globus token, set up a CatalogWrapper object, and set the default catalog to be operated on"
     ]
    },
    {
     "cell_type": "code",
     "collapsed": false,
     "input": [
      "\n",
      "\n",
      "token_file = os.getenv('HOME','')+\"/.ssh/gotoken.txt\"\n",
      "wrap = CatalogWrapper(token_file=token_file)\n",
      "default_catalog = 17#os.getenv('GCAT_DEFAULT_CATALOG_ID') #read the environment variable GCAT_DEFAULT_CATALOG_ID\n",
      "print \"Default Catalog set to %s\"%(default_catalog)"
     ],
     "language": "python",
     "metadata": {},
     "outputs": [
      {
       "output_type": "stream",
       "stream": "stdout",
       "text": [
        "Default Catalog set to 17\n"
       ]
      }
     ],
     "prompt_number": 43
    },
    {
     "cell_type": "heading",
     "level": 1,
     "metadata": {},
     "source": [
      "Catalog Operations"
     ]
    },
    {
     "cell_type": "heading",
     "level": 3,
     "metadata": {},
     "source": [
      "List all Catalogs (warning \u2013\u00a0long output)"
     ]
    },
    {
     "cell_type": "code",
     "collapsed": false,
     "input": [
      "print \"All catalogs in JSON format:\"\n",
      "_,result = wrap.catalogClient.get_catalogs()\n",
      "for item in result:\n",
      "    print \"%s) %s - %s\"%(item['id'],item['config']['name'], item['config']['owner'])\n",
      "#print json.dumps(result)"
     ],
     "language": "python",
     "metadata": {},
     "outputs": [
      {
       "output_type": "stream",
       "stream": "stdout",
       "text": [
        "All catalogs in JSON format:\n",
        "1) Test - u:kyle"
       ]
      },
      {
       "output_type": "stream",
       "stream": "stdout",
       "text": [
        "\n",
        "16) RaviTest - u:madduri\n",
        "17) NexPy-Test - u:blaiszik\n",
        "18) Climate_Ocean - u:rtchoua\n",
        "34) Materials Catalog - u:kyle\n",
        "35) XPCS - u:kyle\n",
        "37) ISI-MIP - u:kyle\n",
        "38) ESG-ANL - u:kyle\n",
        "39) Tomography - u:kyle\n",
        "40) Microscopy - u:kyle\n",
        "41) JSON CAT NEW - u:blaiszik\n",
        "42) MWilde-Catalog-0 - u:wilde\n",
        "49) Beamline: 2-BM-B - u:blaiszik\n",
        "50) Beamline: 32-ID-C - u:blaiszik\n",
        "51) APS Facility Catalog - u:blaiszik\n",
        "48) simanalyze - u:ketancmaheshwari\n",
        "52) CuSn Nanotomography - u:blaiszik\n",
        "57) Test Catalog - u:blaiszik\n",
        "58) Test Catalog - u:blaiszik\n",
        "63) Genomics - u:kyle\n",
        "62) Proteomics - u:kyle\n",
        "64) Wozniak Test - u:wozniak\n",
        "65) Sector1APS - u:hsharma\n",
        "66) My Catalog Name - u:blaiszik\n",
        "67) My Catalog Name - u:blaiszik\n",
        "68) SwiftProvenanceTest - u:lgadelha\n",
        "69) SwiftProvenanceTest - u:lgadelha\n",
        "70) Swift Provenance - u:lgadelha\n",
        "72) IME Nealey - u:edoxastakis\n",
        "89) ematter - u:kyle\n",
        "76) NeXus demo 1 - u:wozniak\n",
        "77) NeXus demo 2 - u:wozniak\n",
        "79) Test Catalog - u:blaiszik\n",
        "80) APITEST - u:kyle\n",
        "94) Data Exchenge - u:bfrosik\n",
        "87) Tomography Test - u:bfrosik\n",
        "92) My New Catalog - u:blaiszik\n",
        "93) NeXus_Production - u:wozniak\n",
        "95) NeXus_Production_2013_LSMO - u:wozniak\n",
        "96) NeXus_Production_2014_BFAP - u:wozniak\n",
        "97) bfap_test - u:wozniak\n",
        "98) CatalogCLI - u:blaiszik\n",
        "99) acl_test - u:wozniak\n"
       ]
      }
     ],
     "prompt_number": 44
    },
    {
     "cell_type": "heading",
     "level": 3,
     "metadata": {},
     "source": [
      "Get all datasets from a catalog"
     ]
    },
    {
     "cell_type": "code",
     "collapsed": false,
     "input": [
      "# _, ignores the first value of the returned list\n",
      "_,result = wrap.catalogClient.get_datasets(default_catalog)\n",
      "for item in result:\n",
      "    print \"%s) %s\"%(item['id'],item['name'])\n",
      "#print json.dumps(result)"
     ],
     "language": "python",
     "metadata": {},
     "outputs": [
      {
       "output_type": "stream",
       "stream": "stdout",
       "text": [
        "86) Neutron Scattering - Azo Dye\n",
        "87) Magnetite Conductivity Data\n",
        "88) Inelastic Neutron Scattering - MgB_2\n",
        "89) Synchrotron X-ray Diffraction - Fe-based Superconductors\n",
        "90) Synchrotron X-ray Diffraction - TiSe_2\n",
        "91) Inelastic X-ray Scattering - NbSe_2\n",
        "97) New Dataset\n",
        "100) New Dataset\n",
        "101) New Dataset\n",
        "102) New Dataset\n",
        "103) New Dataset\n",
        "104) New Dataset\n",
        "108) New Dataset\n",
        "109) New Dataset\n",
        "110) New Dataset\n",
        "111) New Dataset\n",
        "112) New Dataset\n",
        "113) New Dataset\n",
        "114) New Dataset\n",
        "115) New Dataset\n",
        "116) New Dataset\n",
        "117) New Dataset\n",
        "118) New Dataset\n",
        "119) New Dataset\n",
        "120) test\n",
        "121) New Dataset\n",
        "122) New Dataset\n",
        "123) New Dataset\n",
        "124) New Dataset\n",
        "125) New Dataset\n",
        "131) newtest\n",
        "134) New Dataset\n",
        "135) New Dataset\n",
        "137) New Dataset\n",
        "138) New Dataset\n",
        "139) New Dataset\n",
        "140) New Dataset\n",
        "141) Sureshs Dataset\n",
        "146) New Dataset\n",
        "149) New Dataset\n",
        "150) New Dataset\n",
        "151) New Dataset\n",
        "152) New Dataset\n",
        "153) New Dataset\n",
        "154) New Dataset\n",
        "155) New Dataset\n",
        "156) New Dataset\n",
        "157) New Dataset\n",
        "158) New Dataset\n",
        "160) New Dataset\n",
        "165) New Dataset\n",
        "166) New Dataset\n",
        "167) New Dataset\n",
        "168) New Dataset\n",
        "169) New Dataset\n",
        "170) New Dataset\n",
        "171) New Dataset\n",
        "172) New Dataset\n",
        "173) New Dataset\n",
        "175) New Dataset\n",
        "176) New Dataset\n",
        "177) New Dataset\n",
        "184) Run2 Dataset\n",
        "186) New Dataset\n",
        "187) New Dataset\n",
        "188) New Dataset\n",
        "189) New Dataset\n",
        "190) New Dataset\n",
        "191) New Dataset\n",
        "192) New Dataset\n",
        "1231) New Dataset\n",
        "1243) New Dataset - Ben\n",
        "1244) New Dataset\n",
        "1254) Mike Test\n",
        "1266) My Shiny New Dataset\n",
        "1267) My Shiny New Dataset\n",
        "1268) My Shiny New Dataset\n"
       ]
      }
     ],
     "prompt_number": 45
    },
    {
     "cell_type": "heading",
     "level": 3,
     "metadata": {},
     "source": [
      "Get all annotation definitions within a catalog"
     ]
    },
    {
     "cell_type": "code",
     "collapsed": false,
     "input": [
      "_,result = wrap.catalogClient.get_annotation_defs(default_catalog)\n",
      "for item in result:\n",
      "    print \"%s (%s)\"%(item['name'],item['value_type'])\n",
      "#print json.dumps(result)"
     ],
     "language": "python",
     "metadata": {},
     "outputs": [
      {
       "output_type": "stream",
       "stream": "stdout",
       "text": [
        "test_definition (text)\n",
        "test_int (int8)\n",
        "datalocation25 (text)\n",
        "facility (text)\n",
        "data_id (text)\n",
        "number (int8)\n",
        "label (text)\n",
        "material (text)\n",
        "param (int8)\n",
        "comment (text)\n",
        "Annotation Name (text)\n",
        "multi_valued (int8)\n",
        "favorite (text)\n",
        "metadata_filename (text)\n",
        "material-DNA (text)\n",
        "blah (text)\n",
        "data_folder_name (text)\n",
        "test_sdsd (int8)\n",
        "material-DNA2 (text)\n",
        "data_type (text)\n",
        "nexus (boolean)\n",
        "multi_valued2 (text)\n",
        "data_uri (text)\n",
        "kyle-test1 (text)\n",
        "datalocation (text)\n",
        "data_notes (text)\n",
        "test_definition2 (text)\n",
        "Principal Investigators (text)\n",
        "test_definition3 (text)\n",
        "data_filename (text)\n",
        "data_filename2 (text)\n",
        "params (text)\n",
        "JSON (text)\n",
        "new annotation (text)\n",
        "share-users (text)\n",
        "share-endpoint (text)\n",
        "dataset_reference (text)\n",
        "source (text)\n",
        "azo dye (boolean)\n",
        "blahblahblah (text)\n",
        "ANNOTATION (text)\n",
        "angle (float8)\n",
        "testAnnotation (text)\n",
        "blahblah (text)\n",
        "name (text)\n",
        "datalocation2 (text)\n",
        "my annotation (text)\n",
        "readok (boolean)\n",
        "owner (text)\n",
        "writeok (boolean)\n",
        "id (int8)\n",
        "created (timestamptz)\n",
        "modified by (text)\n",
        "modified (timestamptz)\n"
       ]
      }
     ],
     "prompt_number": 46
    },
    {
     "cell_type": "heading",
     "level": 3,
     "metadata": {},
     "source": [
      "Search for datasets within a catalog"
     ]
    },
    {
     "cell_type": "code",
     "collapsed": false,
     "input": [
      "# Get datasets with selectors\n",
      "# selectors are tuples of the form (key, operator, value)\n",
      "\n",
      "# Allowed operators are\n",
      "print \"Operator keys:\"\n",
      "print Op.viewkeys()\n",
      "\n",
      "# Build selector tuples, adding additional tuples to the selector list is an AND operation\n",
      "# %represents the wildcard operator (used with the LIKE operator). %a% will match \"dataset\" or \"angle\" for example\n",
      "selectors = [('name', Op.LIKE, '%a%')]\n",
      "_,result =  wrap.catalogClient.get_datasets(default_catalog, selector_list=selectors)\n",
      "\n",
      "print '\\nSearch for all datasets within catalog %s with selector(s) %s'%(default_catalog,selectors)\n",
      "for item in result:\n",
      "    print \"%s) %s\"%(item['id'],item['name'])\n",
      "#print json.dumps(result)"
     ],
     "language": "python",
     "metadata": {},
     "outputs": [
      {
       "output_type": "stream",
       "stream": "stdout",
       "text": [
        "Operator keys:\n",
        "dict_keys(['NOT_FULLTEXT', 'NOT_REGEXP_CASE_INSENSITIVE', 'FULLTEXT', 'SIMTO', 'LIKE', 'ABSENT', 'NOT_EQUAL', 'GEQ', 'EQUAL', 'LEQ', 'LT', 'REGEXP_CASE_INSENSITIVE', 'TAGGED', 'GT', 'REGEXP', 'NOT_REGEXP'])\n",
        "\n",
        "Search for all datasets within catalog 17 with selector(s) [('name', ':like:', '%a%')]"
       ]
      },
      {
       "output_type": "stream",
       "stream": "stdout",
       "text": [
        "\n",
        "86) Neutron Scattering - Azo Dye\n",
        "87) Magnetite Conductivity Data\n",
        "88) Inelastic Neutron Scattering - MgB_2\n",
        "89) Synchrotron X-ray Diffraction - Fe-based Superconductors\n",
        "90) Synchrotron X-ray Diffraction - TiSe_2\n",
        "91) Inelastic X-ray Scattering - NbSe_2\n",
        "97) New Dataset\n",
        "100) New Dataset\n",
        "101) New Dataset\n",
        "102) New Dataset\n",
        "103) New Dataset\n",
        "104) New Dataset\n",
        "108) New Dataset\n",
        "109) New Dataset\n",
        "110) New Dataset\n",
        "111) New Dataset\n",
        "112) New Dataset\n",
        "113) New Dataset\n",
        "114) New Dataset\n",
        "115) New Dataset\n",
        "116) New Dataset\n",
        "117) New Dataset\n",
        "118) New Dataset\n",
        "119) New Dataset\n",
        "121) New Dataset\n",
        "122) New Dataset\n",
        "123) New Dataset\n",
        "124) New Dataset\n",
        "125) New Dataset\n",
        "134) New Dataset\n",
        "135) New Dataset\n",
        "137) New Dataset\n",
        "138) New Dataset\n",
        "139) New Dataset\n",
        "140) New Dataset\n",
        "141) Sureshs Dataset\n",
        "146) New Dataset\n",
        "149) New Dataset\n",
        "150) New Dataset\n",
        "151) New Dataset\n",
        "152) New Dataset\n",
        "153) New Dataset\n",
        "154) New Dataset\n",
        "155) New Dataset\n",
        "156) New Dataset\n",
        "157) New Dataset\n",
        "158) New Dataset\n",
        "160) New Dataset\n",
        "165) New Dataset\n",
        "166) New Dataset\n",
        "167) New Dataset\n",
        "168) New Dataset\n",
        "169) New Dataset\n",
        "170) New Dataset\n",
        "171) New Dataset\n",
        "172) New Dataset\n",
        "173) New Dataset\n",
        "175) New Dataset\n",
        "176) New Dataset\n",
        "177) New Dataset\n",
        "184) Run2 Dataset\n",
        "186) New Dataset\n",
        "187) New Dataset\n",
        "188) New Dataset\n",
        "189) New Dataset\n",
        "190) New Dataset\n",
        "191) New Dataset\n",
        "192) New Dataset\n",
        "1231) New Dataset\n",
        "1243) New Dataset - Ben\n",
        "1244) New Dataset\n",
        "1266) My Shiny New Dataset\n",
        "1267) My Shiny New Dataset\n",
        "1268) My Shiny New Dataset\n"
       ]
      }
     ],
     "prompt_number": 47
    },
    {
     "cell_type": "heading",
     "level": 3,
     "metadata": {},
     "source": [
      "Create a new dataset"
     ]
    },
    {
     "cell_type": "code",
     "collapsed": false,
     "input": [
      "dataset_info = {\"name\":'My Shiny New Dataset'}\n",
      "_,result = wrap.catalogClient.create_dataset(default_catalog, dataset_info)\n",
      "print json.dumps(result)"
     ],
     "language": "python",
     "metadata": {},
     "outputs": [
      {
       "output_type": "stream",
       "stream": "stdout",
       "text": [
        "{\"name\": \"My Shiny New Dataset\", \"created\": \"2015-02-07 05:18:08.738901+00:00\", \"modified\": \"2015-02-07 05:18:08.738901+00:00\", \"owner\": \"u:blaiszik\", \"annotations_present\": [\"created\", \"id\", \"modified\", \"modified by\", \"name\", \"owner\", \"readok\", \"writeok\"], \"writeok\": true, \"id\": 1272, \"modified by\": \"u:blaiszik\"}\n"
       ]
      }
     ],
     "prompt_number": 48
    },
    {
     "cell_type": "heading",
     "level": 3,
     "metadata": {},
     "source": [
      "Get facets (tags with number of occurences) for tags within a catalog"
     ]
    },
    {
     "cell_type": "code",
     "collapsed": false,
     "input": [
      "def get_facets(catalog_id):\n",
      "    catalog_annotations = []\n",
      "    _,annotation_defs = wrap.catalogClient.get_annotation_defs(catalog_id)\n",
      "    for item in annotation_defs:\n",
      "        catalog_annotations.append(urlquote(item['name']))\n",
      "    request = \"/catalog/id=%s/dataset/name/annotation/%s?range=count\"%(catalog_id,';'.join(catalog_annotations))\n",
      "    _,result = wrap.catalogClient._request('GET', request)\n",
      "    return result\n",
      "    \n",
      "facets = get_facets(default_catalog)\n",
      "print \"Tag facets for Catalog %s:\"%(default_catalog)\n",
      "print json.dumps(facets.pop())"
     ],
     "language": "python",
     "metadata": {},
     "outputs": [
      {
       "output_type": "stream",
       "stream": "stdout",
       "text": [
        "Tag facets for Catalog 17:\n",
        "{\"comment\": 2, \"test_sdsd\": 1, \"facility\": 3, \"nexus\": 2, \"azo dye\": 0, \"readok\": 1, \"number\": 0, \"new annotation\": 0, \"blahblah\": 0, \"blah\": 0, \"share-endpoint\": 1, \"data_folder_name\": 1, \"owner\": 1, \"id\": 78, \"blahblahblah\": 1, \"test_definition\": 0, \"angle\": 3, \"favorite\": 0, \"test_definition2\": 0, \"test_definition3\": 0, \"kyle-test1\": 0, \"param\": 3, \"label\": 0, \"source\": 0, \"JSON\": 0, \"params\": 1, \"data_filename2\": 0, \"multi_valued2\": 0, \"material\": 7, \"testAnnotation\": 1, \"data_type\": 0, \"data_uri\": 0, \"metadata_filename\": 1, \"Annotation Name\": 0, \"share-users\": 0, \"datalocation2\": 0, \"data_filename\": 1, \"material-DNA2\": 0, \"my annotation\": 0, \"ANNOTATION\": 0, \"modified by\": 1, \"data_notes\": 0, \"name\": 14, \"multi_valued\": 1, \"datalocation\": 0, \"data_id\": 1, \"datalocation25\": 0, \"modified\": 78, \"material-DNA\": 0, \"Principal Investigators\": 0, \"created\": 78, \"writeok\": 1, \"test_int\": 1, \"dataset_reference\": 0}\n"
       ]
      }
     ],
     "prompt_number": 49
    },
    {
     "cell_type": "heading",
     "level": 3,
     "metadata": {},
     "source": [
      "Get all member key:value pairs for a specified member\n"
     ]
    },
    {
     "cell_type": "code",
     "collapsed": false,
     "input": [
      "default_catalog = 52\n",
      "default_dataset = 50\n",
      "default_member = 64\n",
      "\n",
      "def get_all_member_annotations(catalog_id, dataset_id, member_id):\n",
      "    # Get a list of the annotations present on a given member\n",
      "    annotation_string = \"annotations_present\"\n",
      "    request_string = \"/catalog/id=%s/dataset/id=%s/member/id=%s/annotation/%s\"%(catalog_id, dataset_id, member_id,annotation_string)\n",
      "    _,result = wrap.catalogClient._request('GET', request_string)\n",
      "    annotations_present = result[0]['annotations_present']\n",
      "    \n",
      "    # With the list of annotations present, retrieve the values\n",
      "    _,result = wrap.catalogClient.get_member_annotations(default_catalog, dataset_id, member_id, annotations_present)\n",
      "    return result\n",
      "    \n",
      "print \"Key value pairs associated with Catalog %s, Dataset %s, Member %s:\"%(default_catalog,default_dataset,default_member)\n",
      "key_values = get_all_member_annotations(default_catalog,default_dataset,default_member)\n",
      "print json.dumps(key_values.pop())"
     ],
     "language": "python",
     "metadata": {},
     "outputs": [
      {
       "output_type": "stream",
       "stream": "stdout",
       "text": [
        "Key value pairs associated with Catalog 52, Dataset 50, Member 64:\n",
        "{\"angle\": 80.5, \"data_type\": \"file\", \"data_id\": \"50_globus://go#ep1/~/CuSn-Tip-PostCycle.TIF\", \"energy\": \"4\", \"data_uri\": \"globus://go#ep1/~/CuSn-Tip-PostCycle.TIF\", \"x\": 1, \"id\": 64, \"dataset_reference\": [\"50\"]}"
       ]
      },
      {
       "output_type": "stream",
       "stream": "stdout",
       "text": [
        "\n"
       ]
      }
     ],
     "prompt_number": 50
    },
    {
     "cell_type": "code",
     "collapsed": false,
     "input": [
      "_,result = wrap.catalogClient.get_all_member_annotations(default_catalog, default_dataset, default_member)\n",
      "print json.dumps(result)"
     ],
     "language": "python",
     "metadata": {},
     "outputs": [
      {
       "output_type": "stream",
       "stream": "stdout",
       "text": [
        "/catalog/id=52/dataset/id=50/member\n",
        "[{\"dataset_reference\": [\"50\"], \"id\": 64, \"data_type\": \"file\", \"data_uri\": \"globus://go#ep1/~/CuSn-Tip-PostCycle.TIF\"}, {\"dataset_reference\": [\"50\"], \"id\": 63, \"data_type\": \"file\", \"data_uri\": \"globus://go#ep1/~/Control-Tip.TIF\"}, {\"dataset_reference\": [\"50\"], \"id\": 65, \"data_type\": \"file\", \"data_uri\": \"globus://go#ep1/~/CuSn-Tip-PreCycle.TIF\"}, {\"dataset_reference\": [\"50\"], \"id\": 74, \"data_type\": \"file\", \"data_uri\": \"globus://go#ep1/~/file2.txt\"}, {\"dataset_reference\": [\"50\"], \"id\": 73, \"data_type\": \"file\", \"data_uri\": \"globus://go#ep1/~/file1.txt\"}]"
       ]
      },
      {
       "output_type": "stream",
       "stream": "stdout",
       "text": [
        "\n"
       ]
      }
     ],
     "prompt_number": 51
    },
    {
     "cell_type": "heading",
     "level": 3,
     "metadata": {},
     "source": [
      "Create a catalog, create a dataset within the catalog, create a tag def, create a tag on a dataset, "
     ]
    },
    {
     "cell_type": "code",
     "collapsed": false,
     "input": [
      "catalog = {'config':{'name':\"My New Catalog\"}}\n",
      "dataset = {'name':'My New Dataset'}\n",
      "tag_def = {\"tag_name\":\"test_definition7\",\n",
      "           \"tag_type\":\"text\", \n",
      "           \"tag_multi\":False}\n",
      "tag_value = \"My test tag value\"\n",
      "\n",
      "print \"==Creating Test Catalog==\"\n",
      "_,result = wrap.catalogClient.create_catalog(catalog)\n",
      "#print result\n",
      "catalog_id = result['id']\n",
      "\n",
      "print \"==Creating Test Dataset==\"\n",
      "_,result = wrap.catalogClient.create_dataset(catalog_id, dataset)\n",
      "dataset_id = result['id']\n",
      "print result\n",
      "\n",
      "print \"==Creating Tag Definition==\"\n",
      "_,result = wrap.catalogClient.create_annotation_def \\\n",
      "            (catalog_id=catalog_id, annotation_name=tag_def['tag_name'],value_type=tag_def['tag_type'], multivalued=tag_def['tag_multi'])\n",
      "print result\n",
      "\n",
      "print \"==Applying Tag Definition to Test Dataset==\"\n",
      "tag_applied = {}\n",
      "tag_applied[tag_def['tag_name']] = tag_value\n",
      "print \"Tag:%s\"%(tag_applied)\n",
      "_,result = wrap.catalogClient.add_dataset_annotations(catalog_id, dataset_id, tag_applied)\n",
      "\n",
      "print \"==Cleaning up test catalog ID:%s==\"%(catalog_id)\n",
      "print wrap.catalogClient.delete_catalog(catalog_id)\n",
      "\n"
     ],
     "language": "python",
     "metadata": {},
     "outputs": [
      {
       "output_type": "stream",
       "stream": "stdout",
       "text": [
        "==Creating Test Catalog==\n",
        "==Creating Test Dataset=="
       ]
      },
      {
       "output_type": "stream",
       "stream": "stdout",
       "text": [
        "\n",
        "{u'name': u'My New Dataset', u'created': u'2015-02-07 05:26:04.030381+00:00', u'modified': u'2015-02-07 05:26:04.030381+00:00', u'owner': u'u:blaiszik', u'annotations_present': [u'created', u'id', u'modified', u'modified by', u'name', u'owner', u'readok', u'writeok'], u'writeok': True, u'id': 49, u'modified by': u'u:blaiszik'}"
       ]
      },
      {
       "output_type": "stream",
       "stream": "stdout",
       "text": [
        "\n",
        "==Creating Tag Definition==\n",
        "{u'writepolicy': u'anonymous', u'name': u':test_definition7', u'read users': u'*', u'readpolicy': u'anonymous', u'value_type': u'text', u'multivalued': False, u'unique': False}"
       ]
      },
      {
       "output_type": "stream",
       "stream": "stdout",
       "text": [
        "\n",
        "==Applying Tag Definition to Test Dataset==\n",
        "Tag:{'test_definition7': 'My test tag value'}\n",
        "==Cleaning up test catalog ID:107=="
       ]
      },
      {
       "output_type": "stream",
       "stream": "stdout",
       "text": [
        "\n",
        "RestResult(response=<httplib.HTTPResponse instance at 0x10357b488>, body='')"
       ]
      },
      {
       "output_type": "stream",
       "stream": "stdout",
       "text": [
        "\n"
       ]
      }
     ],
     "prompt_number": 58
    },
    {
     "cell_type": "code",
     "collapsed": false,
     "input": [],
     "language": "python",
     "metadata": {},
     "outputs": []
    }
   ],
   "metadata": {}
  }
 ]
}